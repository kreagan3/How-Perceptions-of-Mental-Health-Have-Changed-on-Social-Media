{
 "cells": [
  {
   "cell_type": "markdown",
   "metadata": {},
   "source": [
    "# Sentiment Analysis #\n"
   ]
  },
  {
   "cell_type": "markdown",
   "metadata": {},
   "source": [
    "### Loading Data and Libraries ###"
   ]
  },
  {
   "cell_type": "code",
   "execution_count": 10,
   "metadata": {},
   "outputs": [],
   "source": [
    "import pandas as pd\n",
    "import numpy as np\n",
    "from textblob import TextBlob\n",
    "from vaderSentiment.vaderSentiment import SentimentIntensityAnalyzer\n",
    "import matplotlib.pyplot as plt\n",
    "%matplotlib inline"
   ]
  },
  {
   "cell_type": "code",
   "execution_count": 2,
   "metadata": {},
   "outputs": [
    {
     "data": {
      "text/html": [
       "<div>\n",
       "<style scoped>\n",
       "    .dataframe tbody tr th:only-of-type {\n",
       "        vertical-align: middle;\n",
       "    }\n",
       "\n",
       "    .dataframe tbody tr th {\n",
       "        vertical-align: top;\n",
       "    }\n",
       "\n",
       "    .dataframe thead th {\n",
       "        text-align: right;\n",
       "    }\n",
       "</style>\n",
       "<table border=\"1\" class=\"dataframe\">\n",
       "  <thead>\n",
       "    <tr style=\"text-align: right;\">\n",
       "      <th></th>\n",
       "      <th>Unnamed: 0.1</th>\n",
       "      <th>Unnamed: 0</th>\n",
       "      <th>Tweet Id</th>\n",
       "      <th>Text</th>\n",
       "      <th>Username</th>\n",
       "      <th>cleaned_text</th>\n",
       "      <th>Date</th>\n",
       "      <th>year</th>\n",
       "      <th>month</th>\n",
       "    </tr>\n",
       "  </thead>\n",
       "  <tbody>\n",
       "    <tr>\n",
       "      <th>0</th>\n",
       "      <td>0</td>\n",
       "      <td>0</td>\n",
       "      <td>6.822791e+17</td>\n",
       "      <td>@Daily_Star they better keep a close eye on th...</td>\n",
       "      <td>carisbrook5</td>\n",
       "      <td>better keep close eye kid commit suicide depre...</td>\n",
       "      <td>2015-12-30 19:16:32+00:00</td>\n",
       "      <td>2015</td>\n",
       "      <td>12</td>\n",
       "    </tr>\n",
       "    <tr>\n",
       "      <th>1</th>\n",
       "      <td>1</td>\n",
       "      <td>1</td>\n",
       "      <td>6.822476e+17</td>\n",
       "      <td>Calling customer service lines gives me #diarr...</td>\n",
       "      <td>ktandthekittens</td>\n",
       "      <td>calling customer service line give diarrhea tm...</td>\n",
       "      <td>2015-12-30 17:11:12+00:00</td>\n",
       "      <td>2015</td>\n",
       "      <td>12</td>\n",
       "    </tr>\n",
       "    <tr>\n",
       "      <th>2</th>\n",
       "      <td>2</td>\n",
       "      <td>2</td>\n",
       "      <td>6.822329e+17</td>\n",
       "      <td>5 Ways to Relieve Stress in 2016 https://t.co/...</td>\n",
       "      <td>ThriveStreams</td>\n",
       "      <td>way relieve stress via blog mentalhealth newye...</td>\n",
       "      <td>2015-12-30 16:13:04+00:00</td>\n",
       "      <td>2015</td>\n",
       "      <td>12</td>\n",
       "    </tr>\n",
       "    <tr>\n",
       "      <th>3</th>\n",
       "      <td>3</td>\n",
       "      <td>3</td>\n",
       "      <td>6.822210e+17</td>\n",
       "      <td>Sweet story. #anxiety #depression #coping #men...</td>\n",
       "      <td>ynniv129</td>\n",
       "      <td>sweet story anxiety depression coping mentalhe...</td>\n",
       "      <td>2015-12-30 15:25:33+00:00</td>\n",
       "      <td>2015</td>\n",
       "      <td>12</td>\n",
       "    </tr>\n",
       "    <tr>\n",
       "      <th>4</th>\n",
       "      <td>4</td>\n",
       "      <td>4</td>\n",
       "      <td>6.820633e+17</td>\n",
       "      <td>5 Different Types of Motivation https://t.co/x...</td>\n",
       "      <td>workttech</td>\n",
       "      <td>different type motivation motivation mentalhealth</td>\n",
       "      <td>2015-12-30 04:59:08+00:00</td>\n",
       "      <td>2015</td>\n",
       "      <td>12</td>\n",
       "    </tr>\n",
       "  </tbody>\n",
       "</table>\n",
       "</div>"
      ],
      "text/plain": [
       "   Unnamed: 0.1  Unnamed: 0      Tweet Id  \\\n",
       "0             0           0  6.822791e+17   \n",
       "1             1           1  6.822476e+17   \n",
       "2             2           2  6.822329e+17   \n",
       "3             3           3  6.822210e+17   \n",
       "4             4           4  6.820633e+17   \n",
       "\n",
       "                                                Text         Username  \\\n",
       "0  @Daily_Star they better keep a close eye on th...      carisbrook5   \n",
       "1  Calling customer service lines gives me #diarr...  ktandthekittens   \n",
       "2  5 Ways to Relieve Stress in 2016 https://t.co/...    ThriveStreams   \n",
       "3  Sweet story. #anxiety #depression #coping #men...         ynniv129   \n",
       "4  5 Different Types of Motivation https://t.co/x...        workttech   \n",
       "\n",
       "                                        cleaned_text  \\\n",
       "0  better keep close eye kid commit suicide depre...   \n",
       "1  calling customer service line give diarrhea tm...   \n",
       "2  way relieve stress via blog mentalhealth newye...   \n",
       "3  sweet story anxiety depression coping mentalhe...   \n",
       "4  different type motivation motivation mentalhealth   \n",
       "\n",
       "                        Date  year  month  \n",
       "0  2015-12-30 19:16:32+00:00  2015     12  \n",
       "1  2015-12-30 17:11:12+00:00  2015     12  \n",
       "2  2015-12-30 16:13:04+00:00  2015     12  \n",
       "3  2015-12-30 15:25:33+00:00  2015     12  \n",
       "4  2015-12-30 04:59:08+00:00  2015     12  "
      ]
     },
     "execution_count": 2,
     "metadata": {},
     "output_type": "execute_result"
    }
   ],
   "source": [
    "# load data\n",
    "df = pd.read_csv('clean_tweets.csv')\n",
    "df.head()"
   ]
  },
  {
   "cell_type": "markdown",
   "metadata": {},
   "source": [
    "### Adding Sentiment Scores ###"
   ]
  },
  {
   "cell_type": "code",
   "execution_count": 3,
   "metadata": {},
   "outputs": [],
   "source": [
    "#TextBlob\n",
    "# write functions to return polarity and subjectivity scores \n",
    "def get_polarity(text):\n",
    "    return TextBlob(text).sentiment.polarity\n",
    "    \n",
    "def get_subjectivity(text):\n",
    "    return TextBlob(text).sentiment.subjectivity"
   ]
  },
  {
   "cell_type": "code",
   "execution_count": 4,
   "metadata": {},
   "outputs": [
    {
     "data": {
      "text/html": [
       "<div>\n",
       "<style scoped>\n",
       "    .dataframe tbody tr th:only-of-type {\n",
       "        vertical-align: middle;\n",
       "    }\n",
       "\n",
       "    .dataframe tbody tr th {\n",
       "        vertical-align: top;\n",
       "    }\n",
       "\n",
       "    .dataframe thead th {\n",
       "        text-align: right;\n",
       "    }\n",
       "</style>\n",
       "<table border=\"1\" class=\"dataframe\">\n",
       "  <thead>\n",
       "    <tr style=\"text-align: right;\">\n",
       "      <th></th>\n",
       "      <th>Unnamed: 0.1</th>\n",
       "      <th>Unnamed: 0</th>\n",
       "      <th>Tweet Id</th>\n",
       "      <th>Text</th>\n",
       "      <th>Username</th>\n",
       "      <th>cleaned_text</th>\n",
       "      <th>Date</th>\n",
       "      <th>year</th>\n",
       "      <th>month</th>\n",
       "      <th>polarity</th>\n",
       "      <th>subjectivity</th>\n",
       "    </tr>\n",
       "  </thead>\n",
       "  <tbody>\n",
       "    <tr>\n",
       "      <th>0</th>\n",
       "      <td>0</td>\n",
       "      <td>0</td>\n",
       "      <td>6.822791e+17</td>\n",
       "      <td>@Daily_Star they better keep a close eye on th...</td>\n",
       "      <td>carisbrook5</td>\n",
       "      <td>better keep close eye kid commit suicide depre...</td>\n",
       "      <td>2015-12-30 19:16:32+00:00</td>\n",
       "      <td>2015</td>\n",
       "      <td>12</td>\n",
       "      <td>0.50</td>\n",
       "      <td>0.50</td>\n",
       "    </tr>\n",
       "    <tr>\n",
       "      <th>1</th>\n",
       "      <td>1</td>\n",
       "      <td>1</td>\n",
       "      <td>6.822476e+17</td>\n",
       "      <td>Calling customer service lines gives me #diarr...</td>\n",
       "      <td>ktandthekittens</td>\n",
       "      <td>calling customer service line give diarrhea tm...</td>\n",
       "      <td>2015-12-30 17:11:12+00:00</td>\n",
       "      <td>2015</td>\n",
       "      <td>12</td>\n",
       "      <td>0.00</td>\n",
       "      <td>0.00</td>\n",
       "    </tr>\n",
       "    <tr>\n",
       "      <th>2</th>\n",
       "      <td>2</td>\n",
       "      <td>2</td>\n",
       "      <td>6.822329e+17</td>\n",
       "      <td>5 Ways to Relieve Stress in 2016 https://t.co/...</td>\n",
       "      <td>ThriveStreams</td>\n",
       "      <td>way relieve stress via blog mentalhealth newye...</td>\n",
       "      <td>2015-12-30 16:13:04+00:00</td>\n",
       "      <td>2015</td>\n",
       "      <td>12</td>\n",
       "      <td>0.00</td>\n",
       "      <td>0.00</td>\n",
       "    </tr>\n",
       "    <tr>\n",
       "      <th>3</th>\n",
       "      <td>3</td>\n",
       "      <td>3</td>\n",
       "      <td>6.822210e+17</td>\n",
       "      <td>Sweet story. #anxiety #depression #coping #men...</td>\n",
       "      <td>ynniv129</td>\n",
       "      <td>sweet story anxiety depression coping mentalhe...</td>\n",
       "      <td>2015-12-30 15:25:33+00:00</td>\n",
       "      <td>2015</td>\n",
       "      <td>12</td>\n",
       "      <td>0.35</td>\n",
       "      <td>0.65</td>\n",
       "    </tr>\n",
       "    <tr>\n",
       "      <th>4</th>\n",
       "      <td>4</td>\n",
       "      <td>4</td>\n",
       "      <td>6.820633e+17</td>\n",
       "      <td>5 Different Types of Motivation https://t.co/x...</td>\n",
       "      <td>workttech</td>\n",
       "      <td>different type motivation motivation mentalhealth</td>\n",
       "      <td>2015-12-30 04:59:08+00:00</td>\n",
       "      <td>2015</td>\n",
       "      <td>12</td>\n",
       "      <td>0.00</td>\n",
       "      <td>0.60</td>\n",
       "    </tr>\n",
       "  </tbody>\n",
       "</table>\n",
       "</div>"
      ],
      "text/plain": [
       "   Unnamed: 0.1  Unnamed: 0      Tweet Id  \\\n",
       "0             0           0  6.822791e+17   \n",
       "1             1           1  6.822476e+17   \n",
       "2             2           2  6.822329e+17   \n",
       "3             3           3  6.822210e+17   \n",
       "4             4           4  6.820633e+17   \n",
       "\n",
       "                                                Text         Username  \\\n",
       "0  @Daily_Star they better keep a close eye on th...      carisbrook5   \n",
       "1  Calling customer service lines gives me #diarr...  ktandthekittens   \n",
       "2  5 Ways to Relieve Stress in 2016 https://t.co/...    ThriveStreams   \n",
       "3  Sweet story. #anxiety #depression #coping #men...         ynniv129   \n",
       "4  5 Different Types of Motivation https://t.co/x...        workttech   \n",
       "\n",
       "                                        cleaned_text  \\\n",
       "0  better keep close eye kid commit suicide depre...   \n",
       "1  calling customer service line give diarrhea tm...   \n",
       "2  way relieve stress via blog mentalhealth newye...   \n",
       "3  sweet story anxiety depression coping mentalhe...   \n",
       "4  different type motivation motivation mentalhealth   \n",
       "\n",
       "                        Date  year  month  polarity  subjectivity  \n",
       "0  2015-12-30 19:16:32+00:00  2015     12      0.50          0.50  \n",
       "1  2015-12-30 17:11:12+00:00  2015     12      0.00          0.00  \n",
       "2  2015-12-30 16:13:04+00:00  2015     12      0.00          0.00  \n",
       "3  2015-12-30 15:25:33+00:00  2015     12      0.35          0.65  \n",
       "4  2015-12-30 04:59:08+00:00  2015     12      0.00          0.60  "
      ]
     },
     "execution_count": 4,
     "metadata": {},
     "output_type": "execute_result"
    }
   ],
   "source": [
    "# create new columns with polarity and subjectivity scores\n",
    "df['polarity'] = df['cleaned_text'].apply(get_polarity)\n",
    "df['subjectivity'] = df['cleaned_text'].apply(get_subjectivity)\n",
    "\n",
    "df.head()"
   ]
  },
  {
   "cell_type": "code",
   "execution_count": 5,
   "metadata": {},
   "outputs": [
    {
     "data": {
      "text/html": [
       "<div>\n",
       "<style scoped>\n",
       "    .dataframe tbody tr th:only-of-type {\n",
       "        vertical-align: middle;\n",
       "    }\n",
       "\n",
       "    .dataframe tbody tr th {\n",
       "        vertical-align: top;\n",
       "    }\n",
       "\n",
       "    .dataframe thead th {\n",
       "        text-align: right;\n",
       "    }\n",
       "</style>\n",
       "<table border=\"1\" class=\"dataframe\">\n",
       "  <thead>\n",
       "    <tr style=\"text-align: right;\">\n",
       "      <th></th>\n",
       "      <th>Unnamed: 0.1</th>\n",
       "      <th>Unnamed: 0</th>\n",
       "      <th>Tweet Id</th>\n",
       "      <th>Text</th>\n",
       "      <th>Username</th>\n",
       "      <th>cleaned_text</th>\n",
       "      <th>Date</th>\n",
       "      <th>year</th>\n",
       "      <th>month</th>\n",
       "      <th>polarity</th>\n",
       "      <th>subjectivity</th>\n",
       "      <th>sent</th>\n",
       "    </tr>\n",
       "  </thead>\n",
       "  <tbody>\n",
       "    <tr>\n",
       "      <th>0</th>\n",
       "      <td>0</td>\n",
       "      <td>0</td>\n",
       "      <td>6.822791e+17</td>\n",
       "      <td>@Daily_Star they better keep a close eye on th...</td>\n",
       "      <td>carisbrook5</td>\n",
       "      <td>better keep close eye kid commit suicide depre...</td>\n",
       "      <td>2015-12-30 19:16:32+00:00</td>\n",
       "      <td>2015</td>\n",
       "      <td>12</td>\n",
       "      <td>0.50</td>\n",
       "      <td>0.50</td>\n",
       "      <td>Positive</td>\n",
       "    </tr>\n",
       "    <tr>\n",
       "      <th>1</th>\n",
       "      <td>1</td>\n",
       "      <td>1</td>\n",
       "      <td>6.822476e+17</td>\n",
       "      <td>Calling customer service lines gives me #diarr...</td>\n",
       "      <td>ktandthekittens</td>\n",
       "      <td>calling customer service line give diarrhea tm...</td>\n",
       "      <td>2015-12-30 17:11:12+00:00</td>\n",
       "      <td>2015</td>\n",
       "      <td>12</td>\n",
       "      <td>0.00</td>\n",
       "      <td>0.00</td>\n",
       "      <td>Neutral</td>\n",
       "    </tr>\n",
       "    <tr>\n",
       "      <th>2</th>\n",
       "      <td>2</td>\n",
       "      <td>2</td>\n",
       "      <td>6.822329e+17</td>\n",
       "      <td>5 Ways to Relieve Stress in 2016 https://t.co/...</td>\n",
       "      <td>ThriveStreams</td>\n",
       "      <td>way relieve stress via blog mentalhealth newye...</td>\n",
       "      <td>2015-12-30 16:13:04+00:00</td>\n",
       "      <td>2015</td>\n",
       "      <td>12</td>\n",
       "      <td>0.00</td>\n",
       "      <td>0.00</td>\n",
       "      <td>Neutral</td>\n",
       "    </tr>\n",
       "    <tr>\n",
       "      <th>3</th>\n",
       "      <td>3</td>\n",
       "      <td>3</td>\n",
       "      <td>6.822210e+17</td>\n",
       "      <td>Sweet story. #anxiety #depression #coping #men...</td>\n",
       "      <td>ynniv129</td>\n",
       "      <td>sweet story anxiety depression coping mentalhe...</td>\n",
       "      <td>2015-12-30 15:25:33+00:00</td>\n",
       "      <td>2015</td>\n",
       "      <td>12</td>\n",
       "      <td>0.35</td>\n",
       "      <td>0.65</td>\n",
       "      <td>Positive</td>\n",
       "    </tr>\n",
       "    <tr>\n",
       "      <th>4</th>\n",
       "      <td>4</td>\n",
       "      <td>4</td>\n",
       "      <td>6.820633e+17</td>\n",
       "      <td>5 Different Types of Motivation https://t.co/x...</td>\n",
       "      <td>workttech</td>\n",
       "      <td>different type motivation motivation mentalhealth</td>\n",
       "      <td>2015-12-30 04:59:08+00:00</td>\n",
       "      <td>2015</td>\n",
       "      <td>12</td>\n",
       "      <td>0.00</td>\n",
       "      <td>0.60</td>\n",
       "      <td>Neutral</td>\n",
       "    </tr>\n",
       "  </tbody>\n",
       "</table>\n",
       "</div>"
      ],
      "text/plain": [
       "   Unnamed: 0.1  Unnamed: 0      Tweet Id  \\\n",
       "0             0           0  6.822791e+17   \n",
       "1             1           1  6.822476e+17   \n",
       "2             2           2  6.822329e+17   \n",
       "3             3           3  6.822210e+17   \n",
       "4             4           4  6.820633e+17   \n",
       "\n",
       "                                                Text         Username  \\\n",
       "0  @Daily_Star they better keep a close eye on th...      carisbrook5   \n",
       "1  Calling customer service lines gives me #diarr...  ktandthekittens   \n",
       "2  5 Ways to Relieve Stress in 2016 https://t.co/...    ThriveStreams   \n",
       "3  Sweet story. #anxiety #depression #coping #men...         ynniv129   \n",
       "4  5 Different Types of Motivation https://t.co/x...        workttech   \n",
       "\n",
       "                                        cleaned_text  \\\n",
       "0  better keep close eye kid commit suicide depre...   \n",
       "1  calling customer service line give diarrhea tm...   \n",
       "2  way relieve stress via blog mentalhealth newye...   \n",
       "3  sweet story anxiety depression coping mentalhe...   \n",
       "4  different type motivation motivation mentalhealth   \n",
       "\n",
       "                        Date  year  month  polarity  subjectivity      sent  \n",
       "0  2015-12-30 19:16:32+00:00  2015     12      0.50          0.50  Positive  \n",
       "1  2015-12-30 17:11:12+00:00  2015     12      0.00          0.00   Neutral  \n",
       "2  2015-12-30 16:13:04+00:00  2015     12      0.00          0.00   Neutral  \n",
       "3  2015-12-30 15:25:33+00:00  2015     12      0.35          0.65  Positive  \n",
       "4  2015-12-30 04:59:08+00:00  2015     12      0.00          0.60   Neutral  "
      ]
     },
     "execution_count": 5,
     "metadata": {},
     "output_type": "execute_result"
    }
   ],
   "source": [
    "# convert polarity scores\n",
    "df['sent'] = np.where(\n",
    "    df['polarity'] == 0, 'Neutral', np.where(\n",
    "    df['polarity'] > 0, 'Positive', 'Negative'))\n",
    "\n",
    "df.head()"
   ]
  },
  {
   "cell_type": "code",
   "execution_count": 6,
   "metadata": {},
   "outputs": [],
   "source": [
    "# save to csv\n",
    "df.to_csv('full_tweets.csv')"
   ]
  },
  {
   "cell_type": "markdown",
   "metadata": {},
   "source": [
    "### Some Initial Analysis ###"
   ]
  },
  {
   "cell_type": "code",
   "execution_count": 7,
   "metadata": {},
   "outputs": [
    {
     "name": "stdout",
     "output_type": "stream",
     "text": [
      "Avg Polarity:  0.12169236751541757\n",
      "Avg Subjectivity:  0.39087816448028057\n"
     ]
    }
   ],
   "source": [
    "# get averages\n",
    "print('Avg Polarity: ', df['polarity'].mean())\n",
    "print('Avg Subjectivity: ', df['subjectivity'].mean())"
   ]
  },
  {
   "cell_type": "code",
   "execution_count": 8,
   "metadata": {},
   "outputs": [
    {
     "name": "stdout",
     "output_type": "stream",
     "text": [
      "TextBlob Sentiments:  Positive    198164\n",
      "Neutral     117932\n",
      "Negative     70834\n",
      "Name: sent, dtype: int64\n"
     ]
    }
   ],
   "source": [
    "# get counts\n",
    "print('TextBlob Sentiments: ', df['sent'].value_counts())"
   ]
  },
  {
   "cell_type": "code",
   "execution_count": 9,
   "metadata": {},
   "outputs": [
    {
     "name": "stdout",
     "output_type": "stream",
     "text": [
      "Avg Polarity:  year\n",
      "2015    0.093896\n",
      "2016    0.106182\n",
      "2017    0.116091\n",
      "2018    0.134755\n",
      "2019    0.140929\n",
      "2020    0.131029\n",
      "2021    0.105172\n",
      "Name: polarity, dtype: float64\n",
      "Avg Subjectivity:  year\n",
      "2015    0.309972\n",
      "2016    0.334128\n",
      "2017    0.351457\n",
      "2018    0.410808\n",
      "2019    0.410044\n",
      "2020    0.407732\n",
      "2021    0.452888\n",
      "Name: subjectivity, dtype: float64\n"
     ]
    }
   ],
   "source": [
    "means_yr = df.groupby('year')['polarity'].mean()\n",
    "# get yearly averages\n",
    "print('Avg Polarity: ', df.groupby('year')['polarity'].mean())\n",
    "print('Avg Subjectivity: ', df.groupby('year')['subjectivity'].mean())"
   ]
  },
  {
   "cell_type": "markdown",
   "metadata": {},
   "source": [
    "### Visualizations ###"
   ]
  },
  {
   "cell_type": "code",
   "execution_count": 18,
   "metadata": {},
   "outputs": [
    {
     "data": {
      "image/png": "[encoded data removed]",
      "text/plain": [
       "<Figure size 432x288 with 1 Axes>"
      ]
     },
     "metadata": {
      "needs_background": "light"
     },
     "output_type": "display_data"
    }
   ],
   "source": [
    "# plot average polarity for each year\n",
    "avg_pol = df.groupby('year')['polarity'].agg('mean')\n",
    "avg_pol.plot()\n",
    "plt.title('Average Polarity Score from 2015-2021')\n",
    "plt.xlabel('Year')\n",
    "plt.ylabel('Average Polarity Score')\n",
    "plt.savefig('average_polarity.png')\n",
    "plt.show()"
   ]
  },
  {
   "cell_type": "code",
   "execution_count": 23,
   "metadata": {},
   "outputs": [
    {
     "data": {
      "image/png": "[encoded data removed]",
      "text/plain": [
       "<Figure size 432x288 with 1 Axes>"
      ]
     },
     "metadata": {
      "needs_background": "light"
     },
     "output_type": "display_data"
    }
   ],
   "source": [
    "# plot average subjectivity for each year\n",
    "avg_sub = df.groupby('year')['subjectivity'].agg('mean')\n",
    "avg_sub.plot()\n",
    "plt.title('Average Subjectivity Score from 2015-2021')\n",
    "plt.xlabel('Year')\n",
    "plt.ylabel('Average Subjectivity Score')\n",
    "plt.savefig('average_subjectivitypng')\n",
    "plt.show()"
   ]
  },
  {
   "cell_type": "code",
   "execution_count": 24,
   "metadata": {},
   "outputs": [
    {
     "data": {
      "text/plain": [
       "year  sent    \n",
       "2015  Neutral     17184\n",
       "      Positive    13966\n",
       "      Negative     5635\n",
       "2016  Neutral     18373\n",
       "      Positive    18125\n",
       "      Negative     6717\n",
       "2017  Positive    20513\n",
       "      Neutral     17747\n",
       "      Negative     7384\n",
       "2018  Positive    37353\n",
       "      Neutral     17769\n",
       "      Negative    12685\n",
       "2019  Positive    38141\n",
       "      Neutral     16717\n",
       "      Negative    12320\n",
       "2020  Positive    40466\n",
       "      Neutral     17840\n",
       "      Negative    13510\n",
       "2021  Positive    29600\n",
       "      Negative    12583\n",
       "      Neutral     12302\n",
       "Name: sent, dtype: int64"
      ]
     },
     "execution_count": 24,
     "metadata": {},
     "output_type": "execute_result"
    }
   ],
   "source": [
    "df.groupby('year')['sent'].value_counts()\n",
    "\n",
    "# set width of bar\n",
    "barWidth = 0.25\n",
    "fig = plt.subplots(figsize =(12, 8))\n",
    " \n",
    "# set height of bar\n",
    "IT = [12, 30, 1, 8, 22]\n",
    "ECE = [28, 6, 16, 5, 10]\n",
    "CSE = [29, 3, 24, 25, 17]\n",
    " \n",
    "# Set position of bar on X axis\n",
    "br1 = np.arange(len(IT))\n",
    "br2 = [x + barWidth for x in br1]\n",
    "br3 = [x + barWidth for x in br2]\n",
    " \n",
    "# Make the plot\n",
    "plt.bar(br1, IT, color ='r', width = barWidth,\n",
    "        edgecolor ='grey', label ='Positive')\n",
    "plt.bar(br2, ECE, color ='g', width = barWidth,\n",
    "        edgecolor ='grey', label ='Neutral')\n",
    "plt.bar(br3, CSE, color ='b', width = barWidth,\n",
    "        edgecolor ='grey', label ='Negative')\n",
    " \n",
    "# Adding Xticks\n",
    "plt.xlabel('Year', fontweight ='bold', fontsize = 15)\n",
    "plt.ylabel('Sentiment Count', fontweight ='bold', fontsize = 15)\n",
    "plt.xticks([r + barWidth for r in range(len(IT))],\n",
    "        ['2015', '2016', '2017', '2018', '2019', '2020', '2021'])\n",
    " \n",
    "plt.legend()\n",
    "plt.show()\n"
   ]
  },
  {
   "cell_type": "code",
   "execution_count": null,
   "metadata": {},
   "outputs": [],
   "source": []
  }
 ],
 "metadata": {
  "kernelspec": {
   "display_name": "Python 3",
   "language": "python",
   "name": "python3"
  },
  "language_info": {
   "codemirror_mode": {
    "name": "ipython",
    "version": 3
   },
   "file_extension": ".py",
   "mimetype": "text/x-python",
   "name": "python",
   "nbconvert_exporter": "python",
   "pygments_lexer": "ipython3",
   "version": "3.8.5"
  }
 },
 "nbformat": 4,
 "nbformat_minor": 4
}
