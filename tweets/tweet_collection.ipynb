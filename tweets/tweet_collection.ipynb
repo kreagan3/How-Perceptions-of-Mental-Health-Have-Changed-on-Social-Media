{
 "cells": [
  {
   "cell_type": "markdown",
   "metadata": {},
   "source": [
    "# Tweet Collection #\n",
    "\n",
    "I used snscrape to collect tweets from the years 2015-2021. I did it manually (as opposed to a loop) because there is a limit of about 100k tweets per 24 hours. I wanted to collect each year separately since I didn't know how many tweets I would get with each pass. \n",
    "\n",
    "I saved each year to its own csv file that I then concatenated into one csv file that I would work with. "
   ]
  },
  {
   "cell_type": "markdown",
   "metadata": {},
   "source": [
    "### Loading Libraries ###"
   ]
  },
  {
   "cell_type": "code",
   "execution_count": null,
   "metadata": {},
   "outputs": [],
   "source": [
    "import snscrape.modules.twitter as snt\n",
    "import pandas as pd\n",
    "import datetime"
   ]
  },
  {
   "cell_type": "markdown",
   "metadata": {},
   "source": [
    "### Collecting Tweets ###"
   ]
  },
  {
   "cell_type": "code",
   "execution_count": null,
   "metadata": {},
   "outputs": [
    {
     "name": "stdout",
     "output_type": "stream",
     "text": [
      "#covid OR #covid19 OR #coronavirus lang:en since:2020-01-01 until:2020-12-31 near:AL\n",
      "#covid OR #covid19 OR #coronavirus lang:en since:2020-01-01 until:2020-12-31 near:AK\n",
      "#covid OR #covid19 OR #coronavirus lang:en since:2020-01-01 until:2020-12-31 near:AR\n",
      "#covid OR #covid19 OR #coronavirus lang:en since:2020-01-01 until:2020-12-31 near:AZ\n",
      "#covid OR #covid19 OR #coronavirus lang:en since:2020-01-01 until:2020-12-31 near:CA\n",
      "#covid OR #covid19 OR #coronavirus lang:en since:2020-01-01 until:2020-12-31 near:CO\n",
      "#covid OR #covid19 OR #coronavirus lang:en since:2020-01-01 until:2020-12-31 near:CT\n"
     ]
    }
   ],
   "source": [
    "# create a list to append tweet data to\n",
    "tweets_list = []\n",
    "\n",
    "# create a list of states\n",
    "states = ['AL','AK','AR','AZ','CA','CO','CT','DE','DC','FL','GA','HI','ID','IL','IN','IA','KS','KY','LA','MD','ME','MA','MI','MN','MS','MO','MT','NE','NV','NH','NJ','NM','NY','NC','ND','OH','OK','OR','PA','RI','SC','SD','TN','TX','UT','VT','VA','WA','WV','WI','WY']\n",
    "\n",
    "# loop through list to collect all tweets that match the search criteria for each state\n",
    "for state in states:\n",
    "    data = f\"#mentalhealth OR #anxiety OR #depression OR #PTSD lang:en since:2020-01-01 until:2020-12-31 near:{state}\"\n",
    "    print(data)\n",
    "\n",
    "    # use TwitterSearchScraper to scrape data and append tweets to list\n",
    "    for i,tweet in enumerate(snt.TwitterSearchScraper(data).get_items()):\n",
    "        tweets_list.append([tweet.date, tweet.id, tweet.content, tweet.user.username])\n",
    "\n",
    "# create a dataframe from the tweets list above\n",
    "tweets_df = pd.DataFrame(tweets_list, columns=['Datetime', 'Tweet Id', 'Text', 'Username'])\n",
    "tweets_df.info()\n",
    "print (tweets_df)\n",
    "tweets_df.to_csv('covid_tweets20.csv')"
   ]
  },
  {
   "cell_type": "markdown",
   "metadata": {},
   "source": [
    "### Concatenating Files ###"
   ]
  },
  {
   "cell_type": "code",
   "execution_count": 24,
   "metadata": {},
   "outputs": [],
   "source": [
    "import os\n",
    "import glob\n",
    "import pandas as pd\n",
    "\n",
    "\n",
    "# file names\n",
    "all_filenames = [i for i in glob.glob('tweets*.csv')]\n",
    "\n",
    "# combine all files in the list\n",
    "all_tweets = pd.concat([pd.read_csv(f) for f in all_filenames ])\n",
    "\n",
    "# export to csv\n",
    "all_tweets.to_csv( \"all_tweets.csv\", index=False, encoding='utf-8-sig')"
   ]
  },
  {
   "cell_type": "code",
   "execution_count": 25,
   "metadata": {},
   "outputs": [
    {
     "name": "stdout",
     "output_type": "stream",
     "text": [
      "<class 'pandas.core.frame.DataFrame'>\n",
      "Int64Index: 386968 entries, 0 to 67809\n",
      "Data columns (total 5 columns):\n",
      " #   Column      Non-Null Count   Dtype  \n",
      "---  ------      --------------   -----  \n",
      " 0   Unnamed: 0  386968 non-null  object \n",
      " 1   Datetime    386958 non-null  object \n",
      " 2   Tweet Id    386944 non-null  float64\n",
      " 3   Text        386944 non-null  object \n",
      " 4   Username    386930 non-null  object \n",
      "dtypes: float64(1), object(4)\n",
      "memory usage: 17.7+ MB\n"
     ]
    }
   ],
   "source": [
    "all_tweets.info()"
   ]
  }
 ],
 "metadata": {
  "kernelspec": {
   "display_name": "Python 3",
   "language": "python",
   "name": "python3"
  },
  "language_info": {
   "codemirror_mode": {
    "name": "ipython",
    "version": 3
   },
   "file_extension": ".py",
   "mimetype": "text/x-python",
   "name": "python",
   "nbconvert_exporter": "python",
   "pygments_lexer": "ipython3",
   "version": "3.8.5"
  }
 },
 "nbformat": 4,
 "nbformat_minor": 4
}
